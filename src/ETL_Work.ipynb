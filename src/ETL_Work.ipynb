{
 "cells": [
  {
   "cell_type": "code",
   "execution_count": 2,
   "metadata": {
    "collapsed": true,
    "pycharm": {
     "name": "#%%\n"
    }
   },
   "outputs": [
    {
     "data": {
      "text/plain": "Empty DataFrame\nColumns: [description, JobLink]\nIndex: []",
      "text/html": "<div>\n<style scoped>\n    .dataframe tbody tr th:only-of-type {\n        vertical-align: middle;\n    }\n\n    .dataframe tbody tr th {\n        vertical-align: top;\n    }\n\n    .dataframe thead th {\n        text-align: right;\n    }\n</style>\n<table border=\"1\" class=\"dataframe\">\n  <thead>\n    <tr style=\"text-align: right;\">\n      <th></th>\n      <th>description</th>\n      <th>JobLink</th>\n    </tr>\n  </thead>\n  <tbody>\n  </tbody>\n</table>\n</div>"
     },
     "execution_count": 2,
     "metadata": {},
     "output_type": "execute_result"
    }
   ],
   "source": [
    "import sqlite3\n",
    "import pandas as pd\n",
    "\n",
    "database = \"jobs_db.sqlite\"\n",
    "conn = sqlite3.connect(database)\n",
    "cursor = conn.cursor()\n",
    "#\n",
    "# cursor.execute(\"Select * from Job_Details where ROWID = 4\")\n",
    "df = pd.read_sql(\"Select Description, JobLink  from Job_Details where description like '*suck*'\", conn)\n",
    "\n",
    "df"
   ]
  },
  {
   "cell_type": "code",
   "execution_count": 11,
   "outputs": [
    {
     "data": {
      "text/plain": "'2022-06-20 15:41:00.17'"
     },
     "execution_count": 11,
     "metadata": {},
     "output_type": "execute_result"
    }
   ],
   "source": [
    "import datetime\n",
    "# 2022-06-20 19:03:52\n",
    "def format_time():\n",
    "    t = datetime.datetime.now()\n",
    "    s = t.strftime('%Y-%m-%d %H:%M:%S.%f')\n",
    "    return s[:-4]\n",
    "\n",
    "format_time()\n"
   ],
   "metadata": {
    "collapsed": false,
    "pycharm": {
     "name": "#%%\n"
    }
   }
  },
  {
   "cell_type": "code",
   "execution_count": 14,
   "outputs": [
    {
     "data": {
      "text/plain": "                                            Title  \\\n0                       Machine Learning Engineer   \n1                 Staff Machine Learning Engineer   \n2              Machine Learning Engineer (REMOTE)   \n3           Machine Learning Engineer - ThreatEye   \n4    Machine Learning Scientist/Engineer (REMOTE)   \n..                                            ...   \n124                                Data Scientist   \n125         Data Science & AI Project Manager FTC   \n126                      Data Scientist Assistant   \n127                  Data Scientist - 100% Remote   \n128                                Data Scientist   \n\n                                           description  \\\n0    Machine Learning Engineer\\nUSA – Remote\\nCompe...   \n1    \\nAbout Okta\\n Okta is an enterprise grade ide...   \n2    \\nGEICO is more than insurance, it’s truly a t...   \n3    Machine Learning Engineer - ThreatEye\\nChange ...   \n4    \\nGEICO is leading the way in application of M...   \n..                                                 ...   \n124  Erias Ventures was founded to serve its custom...   \n125  \\nData Science and AI Project Manager - 12 Mon...   \n126  \\n Overview: \\n \\n   AIR is currently seeking ...   \n127  We have an immediate need for an experienced D...   \n128  \\nDescription\\n\\nWho We Are\\n Insurity is a le...   \n\n                                              Activity  \\\n0                                     Posted 1 day ago   \n1                                    Posted 4 days ago   \n2                                   Posted 18 days ago   \n3                                  Posted 30+ days ago   \n4                                  Posted 30+ days ago   \n..                                                 ...   \n124  Employer reviewed job 5 days ago, Posted 30+ d...   \n125                                       Posted Today   \n126                                Posted 30+ days ago   \n127                                Posted 30+ days ago   \n128                                 Posted 13 days ago   \n\n                                             JobSnipit  \\\n0    \\nIndustry experience working on developing / ...   \n1    \\nWe are looking for senior machine learning e...   \n2    \\nDemonstrates significant experience with han...   \n3    \\nThe product line comprises containerized sof...   \n4    \\nWe’re looking for a Machine Learning Scienti...   \n..                                                 ...   \n124  \\nThis position involves working collaborative...   \n125  \\nDevelops and manages execution of project pl...   \n126  \\nExperience in building data pipelines or app...   \n127  \\nStrong ability to evaluate predictive models...   \n128  \\nConduct sophisticated analytics activities d...   \n\n                         Salary                                     Location  \n0    $140,000 - $200,000 a year                                       Remote  \n1                           NaN                  Remote in San Francisco, CA  \n2                           NaN  Temporarily Remote in Chevy Chase, MD 20815  \n3                           NaN                           Bethesda, MD 20814  \n4                           NaN              Remote in Chevy Chase, MD 20815  \n..                          ...                                          ...  \n124  $150,000 - $245,000 a year      Annapolis Junction, MD 20701+1 location  \n125                         NaN                       Gaithersburg, MD 20878  \n126                         NaN                           Remote+3 locations  \n127  $150,000 - $175,000 a year                           +2 locationsRemote  \n128                         NaN                                       Remote  \n\n[129 rows x 6 columns]",
      "text/html": "<div>\n<style scoped>\n    .dataframe tbody tr th:only-of-type {\n        vertical-align: middle;\n    }\n\n    .dataframe tbody tr th {\n        vertical-align: top;\n    }\n\n    .dataframe thead th {\n        text-align: right;\n    }\n</style>\n<table border=\"1\" class=\"dataframe\">\n  <thead>\n    <tr style=\"text-align: right;\">\n      <th></th>\n      <th>Title</th>\n      <th>description</th>\n      <th>Activity</th>\n      <th>JobSnipit</th>\n      <th>Salary</th>\n      <th>Location</th>\n    </tr>\n  </thead>\n  <tbody>\n    <tr>\n      <th>0</th>\n      <td>Machine Learning Engineer</td>\n      <td>Machine Learning Engineer\\nUSA – Remote\\nCompe...</td>\n      <td>Posted 1 day ago</td>\n      <td>\\nIndustry experience working on developing / ...</td>\n      <td>$140,000 - $200,000 a year</td>\n      <td>Remote</td>\n    </tr>\n    <tr>\n      <th>1</th>\n      <td>Staff Machine Learning Engineer</td>\n      <td>\\nAbout Okta\\n Okta is an enterprise grade ide...</td>\n      <td>Posted 4 days ago</td>\n      <td>\\nWe are looking for senior machine learning e...</td>\n      <td>NaN</td>\n      <td>Remote in San Francisco, CA</td>\n    </tr>\n    <tr>\n      <th>2</th>\n      <td>Machine Learning Engineer (REMOTE)</td>\n      <td>\\nGEICO is more than insurance, it’s truly a t...</td>\n      <td>Posted 18 days ago</td>\n      <td>\\nDemonstrates significant experience with han...</td>\n      <td>NaN</td>\n      <td>Temporarily Remote in Chevy Chase, MD 20815</td>\n    </tr>\n    <tr>\n      <th>3</th>\n      <td>Machine Learning Engineer - ThreatEye</td>\n      <td>Machine Learning Engineer - ThreatEye\\nChange ...</td>\n      <td>Posted 30+ days ago</td>\n      <td>\\nThe product line comprises containerized sof...</td>\n      <td>NaN</td>\n      <td>Bethesda, MD 20814</td>\n    </tr>\n    <tr>\n      <th>4</th>\n      <td>Machine Learning Scientist/Engineer (REMOTE)</td>\n      <td>\\nGEICO is leading the way in application of M...</td>\n      <td>Posted 30+ days ago</td>\n      <td>\\nWe’re looking for a Machine Learning Scienti...</td>\n      <td>NaN</td>\n      <td>Remote in Chevy Chase, MD 20815</td>\n    </tr>\n    <tr>\n      <th>...</th>\n      <td>...</td>\n      <td>...</td>\n      <td>...</td>\n      <td>...</td>\n      <td>...</td>\n      <td>...</td>\n    </tr>\n    <tr>\n      <th>124</th>\n      <td>Data Scientist</td>\n      <td>Erias Ventures was founded to serve its custom...</td>\n      <td>Employer reviewed job 5 days ago, Posted 30+ d...</td>\n      <td>\\nThis position involves working collaborative...</td>\n      <td>$150,000 - $245,000 a year</td>\n      <td>Annapolis Junction, MD 20701+1 location</td>\n    </tr>\n    <tr>\n      <th>125</th>\n      <td>Data Science &amp; AI Project Manager FTC</td>\n      <td>\\nData Science and AI Project Manager - 12 Mon...</td>\n      <td>Posted Today</td>\n      <td>\\nDevelops and manages execution of project pl...</td>\n      <td>NaN</td>\n      <td>Gaithersburg, MD 20878</td>\n    </tr>\n    <tr>\n      <th>126</th>\n      <td>Data Scientist Assistant</td>\n      <td>\\n Overview: \\n \\n   AIR is currently seeking ...</td>\n      <td>Posted 30+ days ago</td>\n      <td>\\nExperience in building data pipelines or app...</td>\n      <td>NaN</td>\n      <td>Remote+3 locations</td>\n    </tr>\n    <tr>\n      <th>127</th>\n      <td>Data Scientist - 100% Remote</td>\n      <td>We have an immediate need for an experienced D...</td>\n      <td>Posted 30+ days ago</td>\n      <td>\\nStrong ability to evaluate predictive models...</td>\n      <td>$150,000 - $175,000 a year</td>\n      <td>+2 locationsRemote</td>\n    </tr>\n    <tr>\n      <th>128</th>\n      <td>Data Scientist</td>\n      <td>\\nDescription\\n\\nWho We Are\\n Insurity is a le...</td>\n      <td>Posted 13 days ago</td>\n      <td>\\nConduct sophisticated analytics activities d...</td>\n      <td>NaN</td>\n      <td>Remote</td>\n    </tr>\n  </tbody>\n</table>\n<p>129 rows × 6 columns</p>\n</div>"
     },
     "execution_count": 14,
     "metadata": {},
     "output_type": "execute_result"
    }
   ],
   "source": [
    "import sqlite3\n",
    "import pandas as pd\n",
    "\n",
    "database = \"jobs_db.sqlite\"\n",
    "conn = sqlite3.connect(database)\n",
    "cursor = conn.cursor()\n",
    "#\n",
    "# cursor.execute(\"Select * from Job_Details where ROWID = 4\")\n",
    "df = pd.read_sql('Select  Jobs.Title, JD.description, JD.Activity, Jobs.JobSnipit, Jobs.Salary, Jobs.Location  from Jobs join Job_Details JD on Jobs.JobLink = JD.JobLink join Job_SearchParams JSP on JSP.\"index\" = Jobs.SearchParams', conn)\n",
    "\n",
    "df"
   ],
   "metadata": {
    "collapsed": false,
    "pycharm": {
     "name": "#%%\n"
    }
   }
  },
  {
   "cell_type": "code",
   "execution_count": null,
   "outputs": [],
   "source": [],
   "metadata": {
    "collapsed": false,
    "pycharm": {
     "name": "#%%\n"
    }
   }
  }
 ],
 "metadata": {
  "kernelspec": {
   "display_name": "Python 3",
   "language": "python",
   "name": "python3"
  },
  "language_info": {
   "codemirror_mode": {
    "name": "ipython",
    "version": 2
   },
   "file_extension": ".py",
   "mimetype": "text/x-python",
   "name": "python",
   "nbconvert_exporter": "python",
   "pygments_lexer": "ipython2",
   "version": "2.7.6"
  }
 },
 "nbformat": 4,
 "nbformat_minor": 0
}