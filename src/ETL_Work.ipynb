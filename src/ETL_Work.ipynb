{
 "cells": [
  {
   "cell_type": "code",
   "execution_count": 1,
   "metadata": {
    "collapsed": true
   },
   "outputs": [
    {
     "data": {
      "text/plain": "                                         description            Activity  \\\n0   Apply Statistical and Machine Learning metho...  Posted 12 days ago   \n\n                          Insights            Timestamp  \\\n0  On-going need to fill this role  2022-06-09 18:28:23   \n\n                                             JobLink  \n0  /company/Net2Aspire-LLC/jobs/Junior-Data-Scien...  ",
      "text/html": "<div>\n<style scoped>\n    .dataframe tbody tr th:only-of-type {\n        vertical-align: middle;\n    }\n\n    .dataframe tbody tr th {\n        vertical-align: top;\n    }\n\n    .dataframe thead th {\n        text-align: right;\n    }\n</style>\n<table border=\"1\" class=\"dataframe\">\n  <thead>\n    <tr style=\"text-align: right;\">\n      <th></th>\n      <th>description</th>\n      <th>Activity</th>\n      <th>Insights</th>\n      <th>Timestamp</th>\n      <th>JobLink</th>\n    </tr>\n  </thead>\n  <tbody>\n    <tr>\n      <th>0</th>\n      <td> Apply Statistical and Machine Learning metho...</td>\n      <td>Posted 12 days ago</td>\n      <td>On-going need to fill this role</td>\n      <td>2022-06-09 18:28:23</td>\n      <td>/company/Net2Aspire-LLC/jobs/Junior-Data-Scien...</td>\n    </tr>\n  </tbody>\n</table>\n</div>"
     },
     "execution_count": 1,
     "metadata": {},
     "output_type": "execute_result"
    }
   ],
   "source": [
    "import sqlite3\n",
    "import pandas as pd\n",
    "\n",
    "database = \"jobs_db.sqlite\"\n",
    "conn = sqlite3.connect(database)\n",
    "cursor = conn.cursor()\n",
    "#\n",
    "# cursor.execute(\"Select * from Job_Details where ROWID = 4\")\n",
    "df = pd.read_sql(\"Select * from Job_Details where ROWID = 4\", conn)\n",
    "\n",
    "df"
   ]
  },
  {
   "cell_type": "code",
   "execution_count": 11,
   "outputs": [
    {
     "data": {
      "text/plain": "'2022-06-20 15:41:00.17'"
     },
     "execution_count": 11,
     "metadata": {},
     "output_type": "execute_result"
    }
   ],
   "source": [
    "import datetime\n",
    "# 2022-06-20 19:03:52\n",
    "def format_time():\n",
    "    t = datetime.datetime.now()\n",
    "    s = t.strftime('%Y-%m-%d %H:%M:%S.%f')\n",
    "    return s[:-4]\n",
    "\n",
    "format_time()\n"
   ],
   "metadata": {
    "collapsed": false,
    "pycharm": {
     "name": "#%%\n"
    }
   }
  },
  {
   "cell_type": "code",
   "execution_count": null,
   "outputs": [],
   "source": [],
   "metadata": {
    "collapsed": false,
    "pycharm": {
     "name": "#%%\n"
    }
   }
  }
 ],
 "metadata": {
  "kernelspec": {
   "display_name": "Python 3",
   "language": "python",
   "name": "python3"
  },
  "language_info": {
   "codemirror_mode": {
    "name": "ipython",
    "version": 2
   },
   "file_extension": ".py",
   "mimetype": "text/x-python",
   "name": "python",
   "nbconvert_exporter": "python",
   "pygments_lexer": "ipython2",
   "version": "2.7.6"
  }
 },
 "nbformat": 4,
 "nbformat_minor": 0
}